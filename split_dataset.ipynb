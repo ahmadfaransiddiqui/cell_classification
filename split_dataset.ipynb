{
  "nbformat": 4,
  "nbformat_minor": 0,
  "metadata": {
    "colab": {
      "name": "split_dataset.ipynb",
      "provenance": [],
      "collapsed_sections": [],
      "mount_file_id": "1ULwSyd2ZI3osiHE79X6KvGrXmE0qTV1S",
      "authorship_tag": "ABX9TyNN2hYPfQIf1vZ68NUZ4fxu",
      "include_colab_link": true
    },
    "kernelspec": {
      "name": "python3",
      "display_name": "Python 3"
    },
    "language_info": {
      "name": "python"
    }
  },
  "cells": [
    {
      "cell_type": "markdown",
      "metadata": {
        "id": "view-in-github",
        "colab_type": "text"
      },
      "source": [
        "<a href=\"https://colab.research.google.com/github/karl-gardner/ctc_classification/blob/main/split_dataset.ipynb\" target=\"_parent\"><img src=\"https://colab.research.google.com/assets/colab-badge.svg\" alt=\"Open In Colab\"/></a>"
      ]
    },
    {
      "cell_type": "code",
      "source": [
        "import cv2\n",
        "import os\n",
        "import shutil\n",
        "import random"
      ],
      "metadata": {
        "id": "uMLXj6sPZEDK"
      },
      "execution_count": null,
      "outputs": []
    },
    {
      "cell_type": "code",
      "source": [
        "# %cd /content/drive/MyDrive/ctc_classification/data_files/PC3vsLnCAP\n",
        "%cd /content/drive/MyDrive/ctc_classification/data_files/SKOV3nvsd\n",
        "\n",
        "# two_classes = [\"PC3\", \"LnCAP\"]\n",
        "two_classes = [\"drSKOV3\", \"nSKOV3\"]\n",
        "!rm -r split_ds\n",
        "!mkdir split_ds\n",
        "!mkdir split_ds/training\n",
        "!mkdir split_ds/validation\n",
        "!mkdir split_ds/testing\n",
        "!mkdir split_ds/training/{two_classes[0]}\n",
        "!mkdir split_ds/training/{two_classes[1]}\n",
        "!mkdir split_ds/validation/{two_classes[0]}\n",
        "!mkdir split_ds/validation/{two_classes[1]}\n",
        "!mkdir split_ds/testing/{two_classes[0]}\n",
        "!mkdir split_ds/testing/{two_classes[1]}\n",
        "\n",
        "class_1 = []\n",
        "class_2 = []\n",
        "\n",
        "for image in os.listdir(\"full_ds/\" + two_classes[0]):\n",
        "  class_1.append(\"full_ds/\" + two_classes[0] + '/' + image)\n",
        "\n",
        "for image in os.listdir(\"full_ds/\" + two_classes[1]):\n",
        "  class_2.append(\"full_ds/\" + two_classes[1] + '/' + image)\n",
        "\n",
        "images = class_1 + class_2\n",
        "random.shuffle(images)\n",
        "\n",
        "num_images = len(images)\n",
        "train_num = int(0.8 * num_images)\n",
        "val_num = int(0.1 * num_images)\n",
        "print(\"train_num: \",train_num)\n",
        "print(\"val_num: \",val_num)\n",
        "print(\"test_num: \", num_images-train_num-val_num)\n",
        "\n",
        "train = images[0:train_num]\n",
        "val = images[train_num:train_num+val_num]\n",
        "test = images[train_num+val_num:]\n",
        "\n",
        "\n",
        "for image in train:\n",
        "  if(image[8] == two_classes[0][0]):\n",
        "    shutil.copy(image, \"split_ds/training/\" + two_classes[0])\n",
        "  if(image[8] == two_classes[1][0]):\n",
        "    shutil.copy(image, \"split_ds/training/\" + two_classes[1])\n",
        "\n",
        "for image in val:\n",
        "  if(image[8] == two_classes[0][0]):\n",
        "    shutil.copy(image, \"split_ds/validation/\" + two_classes[0])\n",
        "  if(image[8] == two_classes[1][0]):\n",
        "    shutil.copy(image, \"split_ds/validation/\" + two_classes[1])\n",
        "\n",
        "for image in test:\n",
        "  if(image[8] == two_classes[0][0]):\n",
        "    shutil.copy(image, \"split_ds/testing/\" + two_classes[0])\n",
        "  if(image[8] == two_classes[1][0]):\n",
        "    shutil.copy(image, \"split_ds/testing/\" + two_classes[1])"
      ],
      "metadata": {
        "id": "D-XHcRFXZLY2",
        "colab": {
          "base_uri": "https://localhost:8080/"
        },
        "outputId": "3712ac75-c5db-4081-cc5a-f55db27f6f72"
      },
      "execution_count": null,
      "outputs": [
        {
          "output_type": "stream",
          "name": "stdout",
          "text": [
            "/content/drive/MyDrive/static_CTC_classification/SKOV3nvsd\n",
            "train_num:  3563\n",
            "val_num:  445\n",
            "test_num:  446\n"
          ]
        }
      ]
    }
  ]
}