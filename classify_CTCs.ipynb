{
  "cells": [
    {
      "cell_type": "markdown",
      "metadata": {
        "id": "view-in-github",
        "colab_type": "text"
      },
      "source": [
        "<a href=\"https://colab.research.google.com/github/karl-gardner/ctc_classification/blob/main/classify_CTCs.ipynb\" target=\"_parent\"><img src=\"https://colab.research.google.com/assets/colab-badge.svg\" alt=\"Open In Colab\"/></a>"
      ]
    },
    {
      "cell_type": "markdown",
      "metadata": {
        "id": "uqEpPgmz3o1p"
      },
      "source": [
        "# 1.1 Imports"
      ]
    },
    {
      "cell_type": "code",
      "execution_count": 1,
      "metadata": {
        "colab": {
          "base_uri": "https://localhost:8080/"
        },
        "id": "4Hlonk4EEbVw",
        "outputId": "ad6fad5a-054d-4e87-a365-2e1401542b6b"
      },
      "outputs": [
        {
          "output_type": "stream",
          "name": "stdout",
          "text": [
            "Setup complete. Using torch 2.8.2\n"
          ]
        }
      ],
      "source": [
        "%cd /content\n",
        "!git clone https://github.com/karl-gardner/ctc_classification  # clone repo\n",
        "# !pip install --upgrade tensorflow\n",
        "import tensorflow as tf\n",
        "import tensorflow_datasets as tfds\n",
        "from IPython.display import clear_output\n",
        "import numpy as np\n",
        "import matplotlib.pyplot as plt\n",
        "from sklearn.metrics import confusion_matrix\n",
        "import cv2\n",
        "import os\n",
        "import shutil\n",
        "import csv\n",
        "from google.colab import files\n",
        "\n",
        "%cd /content/ctc_classification\n",
        "import funcs\n",
        "\n",
        "clear_output()\n",
        "print(f\"Setup complete. Using torch {tf.__version__}\")"
      ]
    },
    {
      "cell_type": "code",
      "source": [
        "from google.colab import drive\n",
        "drive.mount('/content/drive')"
      ],
      "metadata": {
        "colab": {
          "base_uri": "https://localhost:8080/"
        },
        "id": "t4kKLnkXtcWx",
        "outputId": "5758bc40-a555-4696-9d07-8c61f5d240a2"
      },
      "execution_count": 2,
      "outputs": [
        {
          "output_type": "stream",
          "name": "stdout",
          "text": [
            "Mounted at /content/drive\n"
          ]
        }
      ]
    },
    {
      "cell_type": "markdown",
      "source": [
        "# 1.2 Choose Dataset"
      ],
      "metadata": {
        "id": "MxBR14X_muzS"
      }
    },
    {
      "cell_type": "code",
      "execution_count": 3,
      "metadata": {
        "id": "v-EHZQGYgUa9"
      },
      "outputs": [],
      "source": [
        "datasets = [\"catsvsdogs\", \"PC3vsDU145\", \"PC3vsLnCAP\", \"SKOV3nvsd\"]\n",
        "class_names = [[\"dogs\", \"cats\"], [\"DU145\", \"PC3\"], [\"LnCAP\", \"PC3\"], [\"drSKOV3\", \"nSKOV3\"]]\n",
        "dataset = 2"
      ]
    },
    {
      "cell_type": "markdown",
      "metadata": {
        "id": "WxSox9m23hB3"
      },
      "source": [
        "# 1.3 Filter out Corrupted Images"
      ]
    },
    {
      "cell_type": "code",
      "execution_count": 4,
      "metadata": {
        "id": "DI9b9ZoyjqiP"
      },
      "outputs": [],
      "source": [
        "# # Filter out corrupted .png or .jpg images\n",
        "# %cd /content/drive/MyDrive/CTC_classification\n",
        "\n",
        "# class_1, class_2 = funcs.filter(dataset)\n",
        "# print(\"# of Class 1 deleted: \", class_1)\n",
        "# print(\"# of Class 2 deleted: \", class_2)"
      ]
    },
    {
      "cell_type": "markdown",
      "source": [
        "#2.1 Load Dataset into tf.Dataset"
      ],
      "metadata": {
        "id": "QkPXpZuik6EW"
      }
    },
    {
      "cell_type": "code",
      "execution_count": 5,
      "metadata": {
        "colab": {
          "base_uri": "https://localhost:8080/"
        },
        "id": "J4I6U93ZFbXD",
        "outputId": "54973585-858c-4f6a-fec6-5cf6db4327a7"
      },
      "outputs": [
        {
          "output_type": "stream",
          "name": "stdout",
          "text": [
            "Found 2461 files belonging to 2 classes.\n",
            "Found 307 files belonging to 2 classes.\n",
            "Found 309 files belonging to 2 classes.\n"
          ]
        }
      ],
      "source": [
        "image_size = (224,224)\n",
        "batch_size = 32\n",
        "\n",
        "train_ds = tf.keras.preprocessing.image_dataset_from_directory(\n",
        "    f\"/content/drive/MyDrive/CTC_classification/{datasets[dataset]}/split_ds/training\",\n",
        "    seed=1337,\n",
        "    color_mode='rgb',\n",
        "    image_size=image_size,\n",
        "    batch_size=batch_size\n",
        ")\n",
        "\n",
        "\n",
        "val_ds = tf.keras.preprocessing.image_dataset_from_directory(\n",
        "    f\"/content/drive/MyDrive/CTC_classification/{datasets[dataset]}/split_ds/validation\",\n",
        "    seed=1337,\n",
        "    color_mode='rgb',\n",
        "    image_size=image_size,\n",
        "    batch_size=batch_size\n",
        ")\n",
        "\n",
        "test_ds = tf.keras.preprocessing.image_dataset_from_directory(\n",
        "    f\"/content/drive/MyDrive/CTC_classification/{datasets[dataset]}/split_ds/testing\",\n",
        "    seed=1337,\n",
        "    color_mode='rgb',\n",
        "    image_size=image_size,\n",
        "    batch_size=batch_size\n",
        ")"
      ]
    },
    {
      "cell_type": "code",
      "execution_count": 6,
      "metadata": {
        "id": "DoYbvqfQXJmf"
      },
      "outputs": [],
      "source": [
        "# # I don't know why this wouldn't work as a custom layer! I tested this sequential as a layer after the input layer to \n",
        "# # the model for the catsvsdogs dataset.  Even with the simple catsvsdogs dataset it kept giving terrible validation\n",
        "# # accuracy. All of this seems perfectly legal in tensorflow for a custom layer so if anyone figures out why this doesn't \n",
        "# # work please let me know.\n",
        "\n",
        "# # from website: https://towardsdatascience.com/writing-a-custom-data-augmentation-layer-in-keras-2b53e048a98\n",
        "\n",
        "# class RandomColorDistortion(tf.keras.layers.Layer):\n",
        "#   def __init__(self, contrast_range=[0.5, 1.5], \n",
        "#                 brightness_delta=[-0.2, 0.2], **kwargs):\n",
        "#       super(RandomColorDistortion, self).__init__(**kwargs)\n",
        "#       self.contrast_range = contrast_range\n",
        "#       self.brightness_delta = brightness_delta\n",
        "\n",
        "#   def call(self, images, training=None):\n",
        "#           if not training:\n",
        "#               return images\n",
        "          \n",
        "#           contrast = random.uniform(self.contrast_range[0], self.contrast_range[1])\n",
        "#           brightness = random.uniform(self.brightness_delta[0], self.brightness_delta[1])\n",
        "\n",
        "#           images = tf.image.adjust_contrast(images, contrast)\n",
        "#           images = tf.image.adjust_brightness(images, brightness)\n",
        "#           images = tf.clip_by_value(images, 0, 1)\n",
        "#           return images\n",
        "\n",
        "# augment_and_normalize = tf.keras.Sequential([\n",
        "#   tf.keras.layers.experimental.preprocessing.Rescaling(1.0 / 255),\n",
        "#   RandomColorDistortion(contrast_range=[0.5,1.5], brightness_delta=[-0.15, 0.15]),                       \n",
        "#   tf.keras.layers.RandomFlip(\"horizontal\"),\n",
        "#   tf.keras.layers.RandomRotation(0.1),\n",
        "# ], name=\"augment_and_normalize\")\n",
        "\n",
        "# # Also, I tried this sequential layer with the new tensorflow layer RandomBrightness that came out in version 2.9.0. This augment_and_normalize layer\n",
        "# # worked perfectly with the cats_vs_dogs dataset but did not work at all with the PC3vsDU145 dataset. The training set couldn't even get past 60%\n",
        "# # accuracy so there had to be a bug or something wrong with tensorlow. I believe this augment_and_normalize layer is correct with first a random \n",
        "# # brightness, then contrast, flip, and rotation giving healthy dataset augmentations! Please let me know if anyone figures out what is wrong with this.\n",
        "\n",
        "# augment_and_normalize = tf.keras.Sequential([\n",
        "#   tf.keras.layers.RandomBrightness(0.15),\n",
        "#   tf.keras.layers.RandomContrast((0.5,0.15)), \n",
        "#   tf.keras.layers.RandomFlip(\"horizontal\"),\n",
        "#   tf.keras.layers.RandomRotation(0.1),\n",
        "#   tf.keras.layers.experimental.preprocessing.Rescaling(1.0 / 255)\n",
        "# ], name=\"augment_and_normalize\")"
      ]
    },
    {
      "cell_type": "markdown",
      "source": [
        "#2.2 Augment Dataset"
      ],
      "metadata": {
        "id": "DpAN2fF7lsHo"
      }
    },
    {
      "cell_type": "code",
      "execution_count": 7,
      "metadata": {
        "id": "uOzVUihLRGMh"
      },
      "outputs": [],
      "source": [
        "def map_func(images, labels):\n",
        "  images = tf.image.random_brightness(images, 0.15)\n",
        "  images = tf.image.random_contrast(images, 0.5, 1.5)\n",
        "  images = tf.image.random_flip_left_right(images)\n",
        "  images = tf.clip_by_value(images, 0, 255)\n",
        "  return images,labels"
      ]
    },
    {
      "cell_type": "code",
      "execution_count": 8,
      "metadata": {
        "id": "ClWFkLrsR0U-"
      },
      "outputs": [],
      "source": [
        "train_aug = train_ds.map(lambda images,labels: map_func(images,labels))\n",
        "train_ds = train_ds.concatenate(train_aug).unbatch().batch(32).shuffle(4000)"
      ]
    },
    {
      "cell_type": "markdown",
      "source": [
        "# 3.1 Download Example Images"
      ],
      "metadata": {
        "id": "47m7E4syl7Gz"
      }
    },
    {
      "cell_type": "code",
      "execution_count": 9,
      "metadata": {
        "id": "h-JZs__3-BDM"
      },
      "outputs": [],
      "source": [
        "# def save_images(num_batches=1):\n",
        "#   shutil.rmtree(\"/example_images\", ignore_errors=True)\n",
        "#   os.mkdir(\"/example_images\")\n",
        "#   os.mkdir(\"/example_images/class_1\")\n",
        "#   os.mkdir(\"/example_images/class_2\")\n",
        "#   for j, (images, labels) in enumerate(train_ds.take(num_batches)):\n",
        "#     print(\"images shape: \",images.shape)\n",
        "#     for i in range(images.shape[0]):\n",
        "#       cv2.imwrite(f\"/example_images/class_{str(int(labels[i]+1))}/example_{i*(j+1)}.png\", images[i].numpy())\n",
        "\n",
        "# save_images(num_batches=3)\n",
        "# !rm -r /example_images.zip\n",
        "# !zip -r /example_images.zip /example_images\n",
        "# clear_output()\n",
        "# files.download(\"/example_images.zip\")"
      ]
    },
    {
      "cell_type": "markdown",
      "source": [
        "# 3.2 Display Example Images"
      ],
      "metadata": {
        "id": "AmpFl5CCmGyo"
      }
    },
    {
      "cell_type": "code",
      "execution_count": 10,
      "metadata": {
        "id": "eAmaJ8MyBENK"
      },
      "outputs": [],
      "source": [
        "# plt.figure(figsize=(10, 10))\n",
        "# for images, labels in train_ds.take(1):\n",
        "#   print(\"images shape: \",images.shape)\n",
        "#   for i in range(9):\n",
        "#       ax = plt.subplot(3, 3, i + 1)\n",
        "#       plt.imshow(images[i].numpy().astype(\"uint8\"))\n",
        "#       plt.title(int(labels[i]))\n",
        "#       plt.axis(\"off\")"
      ]
    },
    {
      "cell_type": "markdown",
      "source": [
        "#4.1 Generate ResNet-50 Model For Binary Classification"
      ],
      "metadata": {
        "id": "siMNczPpmS9X"
      }
    },
    {
      "cell_type": "code",
      "execution_count": 11,
      "metadata": {
        "colab": {
          "base_uri": "https://localhost:8080/",
          "height": 1000
        },
        "id": "vPNLPMK_Op4z",
        "outputId": "bf4472f0-6776-4387-c010-69f2c425d5d4"
      },
      "outputs": [
        {
          "output_type": "stream",
          "name": "stdout",
          "text": [
            "Downloading data from https://storage.googleapis.com/tensorflow/keras-applications/resnet/resnet50_weights_tf_dim_ordering_tf_kernels_notop.h5\n",
            "94773248/94765736 [==============================] - 4s 0us/step\n",
            "94781440/94765736 [==============================] - 4s 0us/step\n"
          ]
        },
        {
          "output_type": "execute_result",
          "data": {
            "text/plain": [
              "<IPython.core.display.Image object>"
            ],
            "image/png": "[encoded data removed]"
          },
          "metadata": {},
          "execution_count": 11
        }
      ],
      "source": [
        "def make_model(input_shape, num_classes):\n",
        "    input = tf.keras.Input(shape=input_shape)\n",
        "\n",
        "    # Entry block\n",
        "    # x = augment_and_normalize(input)\n",
        "    x = tf.keras.layers.experimental.preprocessing.Rescaling(1.0 / 255)(input)\n",
        "    feature_extractor = tf.keras.applications.resnet.ResNet50(input_shape=(224, 224, 3),\n",
        "                                               include_top=False,\n",
        "                                               weights='imagenet')(x)\n",
        "    x = tf.keras.layers.GlobalAveragePooling2D()(feature_extractor)\n",
        "    x = tf.keras.layers.Flatten()(x)\n",
        "    x = tf.keras.layers.Dense(1024, activation=\"relu\")(x)\n",
        "    x = tf.keras.layers.Dropout(0.5)(x)\n",
        "    x = tf.keras.layers.Dense(512, activation=\"relu\")(x)\n",
        "    x = tf.keras.layers.Dropout(0.5)(x)\n",
        "    output = tf.keras.layers.Dense(1, activation=\"sigmoid\", name=\"classification\")(x)\n",
        "    return tf.keras.Model(input, output)\n",
        "\n",
        "model = make_model(input_shape=image_size + (3,), num_classes=2)\n",
        "tf.keras.utils.plot_model(model)"
      ]
    },
    {
      "cell_type": "markdown",
      "source": [
        "# 4.2 Compile and Train Model"
      ],
      "metadata": {
        "id": "j_PsQhQWmjeD"
      }
    },
    {
      "cell_type": "code",
      "execution_count": 12,
      "metadata": {
        "id": "KPvg2FEAR1cv"
      },
      "outputs": [],
      "source": [
        "epochs = 150\n",
        "\n",
        "model.compile(\n",
        "    optimizer=tf.keras.optimizers.Adam(),\n",
        "    loss=\"binary_crossentropy\",\n",
        "    metrics=[\"accuracy\"],\n",
        ")\n",
        "\n",
        "# history = model.fit(x=train_ds, epochs=epochs, validation_data=val_ds,\n",
        "#     callbacks = [tf.keras.callbacks.ModelCheckpoint(filepath=\"weights.{epoch:02d}.ckpt\", monitor='val_accuracy',\n",
        "#     verbose=0, save_best_only=True,save_weights_only=True, mode='auto', save_freq='epoch',options=None)])"
      ]
    },
    {
      "cell_type": "markdown",
      "metadata": {
        "id": "f0X2whMbNs8t"
      },
      "source": [
        "# 5.1 Display training results for all datasets"
      ]
    },
    {
      "cell_type": "code",
      "execution_count": 13,
      "metadata": {
        "id": "Sn0-ZDN5Mta1"
      },
      "outputs": [],
      "source": [
        "epoch_nums = [124, 135, 147, 90]\n",
        "# # !cp /content/weights.{epoch_num}.ckpt.data-00000-of-00001 /content/drive/MyDrive/CTC_classification/{datasets[dataset]}\n",
        "# # !cp /content/weights.{epoch_num}.ckpt.index /content/drive/MyDrive/CTC_classification/{datasets[dataset]}\n",
        "\n",
        "# # with open(f\"/content/drive/MyDrive/CTC_classification/{datasets[dataset]}/train_results.csv\", 'w', newline='') as csvfile:\n",
        "# #   spamwriter = csv.writer(csvfile)\n",
        "# #   spamwriter.writerow(['row 1: train loss, row 2: train accuracy, row 3: validation loss, row 4: validation accuracy'])\n",
        "# #   spamwriter.writerow(np.array(history.history[\"loss\"]))\n",
        "# #   spamwriter.writerow(np.array(history.history[\"accuracy\"]))\n",
        "# #   spamwriter.writerow(np.array(history.history[\"val_loss\"]))\n",
        "# #   spamwriter.writerow(np.array(history.history[\"val_accuracy\"]))\n",
        "\n",
        "# fig, axs = plt.subplots(3,2,figsize=(16,10))\n",
        "# axs = axs.flatten()\n",
        "# yticks = [[0, 5, 10, 15, 20], [0, 100, 200, 300, 400], [0, 10, 20, 30, 40]]\n",
        "# ylabels = [['0', '5', '10', '15', '>20'], ['0', '200', '400', '600', '>800'], ['0', '10', '20', '30', '>40']]\n",
        "# bottom = [None,-50,None]\n",
        "# for i in range(len(datasets)-1):\n",
        "#   train_results = []\n",
        "#   with open(f\"/content/drive/MyDrive/CTC_classification/{datasets[i+1]}/train_results.csv\", newline='') as csvfile:\n",
        "#     spamreader = csv.reader(csvfile,)\n",
        "#     next(spamreader)\n",
        "#     for row in spamreader:\n",
        "#       train_results.append(row)\n",
        "#     train_results = np.array(train_results).astype(float)\n",
        "\n",
        "#   axs[i*2].plot(train_results[1, :])\n",
        "#   axs[i*2].plot(train_results[3, :])  \n",
        "#   axs[i*2].set_xlabel('Epochs', fontsize=16)\n",
        "#   axs[i*2].set_ylabel('Accuracy', fontsize=16)\n",
        "#   axs[i*2].tick_params(labelsize=14)\n",
        "\n",
        "#   axs[i*2+1].plot(train_results[0, :])\n",
        "#   axs[i*2+1].plot(train_results[2, :])\n",
        "#   axs[i*2+1].set_xlabel('Epochs', fontsize=16)\n",
        "#   axs[i*2+1].set_ylabel('Loss', fontsize=16, labelpad=-7)\n",
        "#   axs[i*2+1].tick_params(labelsize=14)\n",
        "#   axs[i*2+1].set_ylim((bottom[i], yticks[i][4]))\n",
        "#   axs[i*2+1].set_yticks(yticks[i])\n",
        "#   axs[i*2+1].set_yticklabels(ylabels[i])\n",
        "\n",
        "#   if i == 0:\n",
        "#     axs[i*2].legend(['train', 'validation'], loc=(0.7,1.2), ncol=2, fontsize=\"xx-large\")\n",
        "#     axs[i*2].set_title('model accuracy', fontsize=22)\n",
        "#     axs[i*2+1].set_title('model loss', fontsize=22)\n",
        "\n",
        "\n",
        "# fig.subplots_adjust(hspace=0.5)\n",
        "# fig.subplots_adjust(wspace=0.28)\n",
        "# plt.show()\n",
        "# fig.savefig('/content/train_results.tif', dpi= 500, bbox_inches=\"tight\")\n",
        "# files.download('/content/train_results.tif')"
      ]
    },
    {
      "cell_type": "markdown",
      "source": [
        "# 5.2 Load Tensorflow Weights and Evaluate"
      ],
      "metadata": {
        "id": "VlHOyzqkpde1"
      }
    },
    {
      "cell_type": "code",
      "execution_count": 14,
      "metadata": {
        "colab": {
          "base_uri": "https://localhost:8080/"
        },
        "id": "BFBRGNvBTV0-",
        "outputId": "f2d065c6-b8bd-45bd-c839-b66153de3e3a"
      },
      "outputs": [
        {
          "output_type": "execute_result",
          "data": {
            "text/plain": [
              "<tensorflow.python.training.tracking.util.CheckpointLoadStatus at 0x7f4b742e9390>"
            ]
          },
          "metadata": {},
          "execution_count": 14
        }
      ],
      "source": [
        "model.load_weights(f\"/content/drive/MyDrive/CTC_classification/{datasets[dataset]}/weights.{epoch_nums[dataset]}.ckpt\")"
      ]
    },
    {
      "cell_type": "code",
      "execution_count": 15,
      "metadata": {
        "colab": {
          "base_uri": "https://localhost:8080/"
        },
        "id": "THazkWTCW9LX",
        "outputId": "32849552-98a7-4153-b069-c14a6fc6c0fe"
      },
      "outputs": [
        {
          "output_type": "stream",
          "name": "stdout",
          "text": [
            "10/10 [==============================] - 40s 197ms/step - loss: 0.4532 - accuracy: 0.9450\n"
          ]
        },
        {
          "output_type": "execute_result",
          "data": {
            "text/plain": [
              "[0.453151673078537, 0.9449838399887085]"
            ]
          },
          "metadata": {},
          "execution_count": 15
        }
      ],
      "source": [
        "model.evaluate(test_ds)"
      ]
    },
    {
      "cell_type": "markdown",
      "source": [
        "# 6.1 Generate Confusion Matrix"
      ],
      "metadata": {
        "id": "ZhYj9e3XpkxY"
      }
    },
    {
      "cell_type": "code",
      "execution_count": 16,
      "metadata": {
        "colab": {
          "base_uri": "https://localhost:8080/",
          "height": 481
        },
        "id": "1MIHNiL6Z1B4",
        "outputId": "9d963ffa-d8e3-472b-a3ad-3ec6a38f1ae0"
      },
      "outputs": [
        {
          "output_type": "stream",
          "name": "stdout",
          "text": [
            "accuracy:  0.9449838187702265\n"
          ]
        },
        {
          "output_type": "display_data",
          "data": {
            "text/plain": [
              "<Figure size 576x432 with 2 Axes>"
            ],
            "image/png": "[encoded data removed]"
          },
          "metadata": {
            "needs_background": "light"
          }
        },
        {
          "output_type": "display_data",
          "data": {
            "text/plain": [
              "<IPython.core.display.Javascript object>"
            ],
            "application/javascript": [
              "\n",
              "    async function download(id, filename, size) {\n",
              "      if (!google.colab.kernel.accessAllowed) {\n",
              "        return;\n",
              "      }\n",
              "      const div = document.createElement('div');\n",
              "      const label = document.createElement('label');\n",
              "      label.textContent = `Downloading \"${filename}\": `;\n",
              "      div.appendChild(label);\n",
              "      const progress = document.createElement('progress');\n",
              "      progress.max = size;\n",
              "      div.appendChild(progress);\n",
              "      document.body.appendChild(div);\n",
              "\n",
              "      const buffers = [];\n",
              "      let downloaded = 0;\n",
              "\n",
              "      const channel = await google.colab.kernel.comms.open(id);\n",
              "      // Send a message to notify the kernel that we're ready.\n",
              "      channel.send({})\n",
              "\n",
              "      for await (const message of channel.messages) {\n",
              "        // Send a message to notify the kernel that we're ready.\n",
              "        channel.send({})\n",
              "        if (message.buffers) {\n",
              "          for (const buffer of message.buffers) {\n",
              "            buffers.push(buffer);\n",
              "            downloaded += buffer.byteLength;\n",
              "            progress.value = downloaded;\n",
              "          }\n",
              "        }\n",
              "      }\n",
              "      const blob = new Blob(buffers, {type: 'application/binary'});\n",
              "      const a = document.createElement('a');\n",
              "      a.href = window.URL.createObjectURL(blob);\n",
              "      a.download = filename;\n",
              "      div.appendChild(a);\n",
              "      a.click();\n",
              "      div.remove();\n",
              "    }\n",
              "  "
            ]
          },
          "metadata": {}
        },
        {
          "output_type": "display_data",
          "data": {
            "text/plain": [
              "<IPython.core.display.Javascript object>"
            ],
            "application/javascript": [
              "download(\"download_29d81772-1e1f-45f5-a27f-18a427ccdf60\", \"confusion_matrix.tif\", 46012670)"
            ]
          },
          "metadata": {}
        }
      ],
      "source": [
        "train_y_true = []\n",
        "for x,y in train_ds:\n",
        "  train_y_true.append(y)\n",
        "train_y_true = tf.concat(train_y_true,axis=0)\n",
        "\n",
        "\n",
        "val_images = []\n",
        "val_y_true = []\n",
        "for x,y in val_ds:\n",
        "  val_images.append(x)\n",
        "  val_y_true.append(y)\n",
        "val_images = tf.concat(val_images,axis=0)\n",
        "val_y_true = tf.concat(val_y_true,axis=0)\n",
        "\n",
        "test_images = []\n",
        "test_y_true = []\n",
        "for x,y in test_ds:\n",
        "  test_images.append(x)\n",
        "  test_y_true.append(y)\n",
        "test_images = tf.concat(test_images,axis=0)\n",
        "test_y_true = tf.concat(test_y_true,axis=0)\n",
        "\n",
        "y_pred = model.predict(test_images)\n",
        "y_pred = tf.cast(tf.reshape(tf.math.round(y_pred),tf.shape(y_pred)[0]),tf.int32)\n",
        "\n",
        "confusion_tensor = tf.math.confusion_matrix(test_y_true,y_pred)\n",
        "acc = np.mean(y_pred == test_y_true)\n",
        "print(\"accuracy: \",acc)\n",
        "\n",
        "funcs.save_confusion_matrix(cm=confusion_tensor.numpy(), normalize= False,target_names = class_names[dataset])\n",
        "# files.download(\"/confusion_matrix.tif\")"
      ]
    },
    {
      "cell_type": "markdown",
      "source": [
        "# 6.2 Print Dataset Summary"
      ],
      "metadata": {
        "id": "AsRy7pO2px0M"
      }
    },
    {
      "cell_type": "code",
      "execution_count": 17,
      "metadata": {
        "id": "BMwXzB63l8__"
      },
      "outputs": [],
      "source": [
        "# train_0 = int(tf.reduce_sum(tf.cast(tf.math.equal(train_y_true, 0), tf.int32)))\n",
        "# train_1 = int(tf.reduce_sum(tf.cast(tf.math.equal(train_y_true, 1), tf.int32)))\n",
        "# val_0 = int(tf.reduce_sum(tf.cast(tf.equal(val_y_true, 0), tf.int32)))\n",
        "# val_1 = int(tf.reduce_sum(tf.cast(tf.math.equal(val_y_true, 1), tf.int32)))\n",
        "# test_0 = int(tf.reduce_sum(tf.cast(tf.equal(test_y_true, 0), tf.int32)))\n",
        "# test_1 = int(tf.reduce_sum(tf.cast(tf.math.equal(test_y_true, 1), tf.int32)))\n",
        "# train_comb = train_0 + train_1\n",
        "# val_comb = val_0 + val_1\n",
        "# test_comb = test_0 + test_1\n",
        "\n",
        "# print(\"Labeled Classes and Images After Augmentations\")\n",
        "# print(f\"# of Class {class_names[dataset][0]} combined: {train_0 + val_0 + test_0}\")\n",
        "# print(f\"# of Class {class_names[dataset][1]} combined: {train_1 + val_1 + test_1}\")\n",
        "# print(f\"# of total images combined: {train_0 + val_0 + test_0 + train_1 + val_1 + test_1}\\n\")\n",
        "\n",
        "# print(f\"# of Class {class_names[dataset][0]} in training set: \",train_0)\n",
        "# print(f\"# of PC-3 Class {class_names[dataset][1]} in training set: \",train_1)\n",
        "# print(f\"# training set combined: {train_comb}\\n\")\n",
        "\n",
        "# print(f\"# of Class {class_names[dataset][0]} in val set: {val_0}\")\n",
        "# print(f\"# of Class {class_names[dataset][1]} in val set: {val_1}\")\n",
        "# print(f\"# validation set combined: {val_comb}\\n\")\n",
        "\n",
        "# print(f\"# of Class {class_names[dataset][0]} in test set: {test_0}\")\n",
        "# print(f\"# of Class {class_names[dataset][1]} in test set: {test_1}\")\n",
        "# print(f\"# test set combined: {test_comb}\")"
      ]
    }
  ],
  "metadata": {
    "accelerator": "GPU",
    "colab": {
      "collapsed_sections": [],
      "machine_shape": "hm",
      "name": "classify_CTCs.ipynb",
      "provenance": [],
      "authorship_tag": "ABX9TyNgN+OPPoPdqlkxdX1Zguqd",
      "include_colab_link": true
    },
    "kernelspec": {
      "display_name": "Python 3",
      "name": "python3"
    },
    "language_info": {
      "name": "python"
    }
  },
  "nbformat": 4,
  "nbformat_minor": 0
}